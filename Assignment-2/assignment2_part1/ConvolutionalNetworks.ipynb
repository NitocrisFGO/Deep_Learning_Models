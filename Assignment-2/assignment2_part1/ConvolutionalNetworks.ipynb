{
 "cells": [
  {
   "cell_type": "markdown",
   "metadata": {},
   "source": [
    "#Comment this block if you are NOT using colabVM\n",
    "\n",
    "# This mounts your Google Drive to the Colab VM.\n",
    "from google.colab import drive\n",
    "drive.mount('/content/drive')\n",
    "\n",
    "# TODO: Enter the foldername in your Drive where you have saved the unzipped\n",
    "# assignment folder, e.g. 'cs6353/assignments/assignment1/'\n",
    "FOLDERNAME = None\n",
    "assert FOLDERNAME is not None, \"[!] Enter the foldername.\"\n",
    "\n",
    "# Now that we've mounted your Drive, this ensures that\n",
    "# the Python interpreter of the Colab VM can load\n",
    "# python files from within it.\n",
    "import sys\n",
    "sys.path.append('/content/drive/My Drive/{}'.format(FOLDERNAME))\n",
    "\n",
    "# This downloads the CIFAR-10 dataset to your Drive\n",
    "# if it doesn't already exist.\n",
    "%cd /content/drive/My\\ Drive/$FOLDERNAME/cs6353/datasets/\n",
    "!bash get_datasets.sh\n",
    "%cd /content/drive/My\\ Drive/$FOLDERNAME"
   ]
  },
  {
   "cell_type": "code",
   "execution_count": 1,
   "metadata": {
    "ExecuteTime": {
     "end_time": "2023-10-26T22:28:02.759044200Z",
     "start_time": "2023-10-26T22:28:02.653628800Z"
    }
   },
   "outputs": [
    {
     "name": "stdout",
     "output_type": "stream",
     "text": [
      "Chosen GPU: 0\n"
     ]
    }
   ],
   "source": [
    "#UNCOMMENT IF USING CADE\n",
    "import os\n",
    "##### Request a GPU #####\n",
    "## This function locates an available gpu for usage. In addition, this function reserves a specificed\n",
    "## memory space exclusively for your account. The memory reservation prevents the decrement in computational\n",
    "## speed when other users try to allocate memory on the same gpu in the shared systems, i.e., CADE machines. \n",
    "## Note: If you use your own system which has a GPU with less than 4GB of memory, remember to change the \n",
    "## specified mimimum memory.\n",
    "def define_gpu_to_use(minimum_memory_mb = 3500):    \n",
    "    thres_memory = 600 #\n",
    "    gpu_to_use = None\n",
    "    try: \n",
    "        os.environ['CUDA_VISIBLE_DEVICES']\n",
    "        print('GPU already assigned before: ' + str(os.environ['CUDA_VISIBLE_DEVICES']))\n",
    "        return\n",
    "    except:\n",
    "        pass\n",
    "    \n",
    "    for i in range(16):\n",
    "        free_memory = !nvidia-smi --query-gpu=memory.free -i $i --format=csv,nounits,noheader        \n",
    "        if free_memory[0] == 'No devices were found':\n",
    "            break\n",
    "        free_memory = int(free_memory[0])\n",
    "        \n",
    "        if free_memory>minimum_memory_mb-thres_memory:\n",
    "            gpu_to_use = i\n",
    "            break\n",
    "            \n",
    "    if gpu_to_use is None:\n",
    "        print('Could not find any GPU available with the required free memory of ' + str(minimum_memory_mb) \\\n",
    "              + 'MB. Please use a different system for this assignment.')\n",
    "    else:\n",
    "        os.environ['CUDA_VISIBLE_DEVICES'] = str(gpu_to_use)\n",
    "        print('Chosen GPU: ' + str(gpu_to_use))\n",
    "        \n",
    "## Request a gpu and reserve the memory space\n",
    "define_gpu_to_use(4000)"
   ]
  },
  {
   "cell_type": "markdown",
   "metadata": {},
   "source": [
    "# Convolutional Networks\n",
    "So far we have worked with deep fully-connected networks, using them to explore different optimization strategies and network architectures. Fully-connected networks are a good testbed for experimentation because they are very computationally efficient, but in practice all state-of-the-art results use convolutional networks instead.\n",
    "\n",
    "First you will implement several layer types that are used in convolutional networks. You will then use these layers to train a convolutional network on the CIFAR-10 dataset."
   ]
  },
  {
   "cell_type": "code",
   "execution_count": 2,
   "metadata": {
    "ExecuteTime": {
     "end_time": "2023-10-26T22:28:03.200738400Z",
     "start_time": "2023-10-26T22:28:02.748081800Z"
    }
   },
   "outputs": [],
   "source": [
    "# As usual, a bit of setup\n",
    "import numpy as np\n",
    "import matplotlib.pyplot as plt\n",
    "from cs6353.classifiers.cnn import *\n",
    "from cs6353.data_utils import get_CIFAR10_data\n",
    "from cs6353.gradient_check import eval_numerical_gradient_array, eval_numerical_gradient\n",
    "from cs6353.layers import *\n",
    "from cs6353.solver import Solver\n",
    "\n",
    "%matplotlib inline\n",
    "plt.rcParams['figure.figsize'] = (10.0, 8.0) # set default size of plots\n",
    "plt.rcParams['image.interpolation'] = 'nearest'\n",
    "plt.rcParams['image.cmap'] = 'gray'\n",
    "\n",
    "# # for auto-reloading external modules\n",
    "# # see http://stackoverflow.com/questions/1907993/autoreload-of-modules-in-ipython\n",
    "# %load_ext autoreload\n",
    "# %autoreload 2\n",
    "\n",
    "def rel_error(x, y):\n",
    "  \"\"\" returns relative error \"\"\"\n",
    "  return np.max(np.abs(x - y) / (np.maximum(1e-8, np.abs(x) + np.abs(y))))"
   ]
  },
  {
   "cell_type": "code",
   "execution_count": 3,
   "metadata": {
    "ExecuteTime": {
     "end_time": "2023-10-26T22:28:04.874823300Z",
     "start_time": "2023-10-26T22:28:03.174825900Z"
    }
   },
   "outputs": [
    {
     "name": "stdout",
     "output_type": "stream",
     "text": [
      "X_train:  (49000, 3, 32, 32)\n",
      "y_train:  (49000,)\n",
      "X_val:  (1000, 3, 32, 32)\n",
      "y_val:  (1000,)\n",
      "X_test:  (1000, 3, 32, 32)\n",
      "y_test:  (1000,)\n"
     ]
    }
   ],
   "source": [
    "# Load the (preprocessed) CIFAR10 data.\n",
    "\n",
    "data = get_CIFAR10_data()\n",
    "for k, v in data.items():\n",
    "  print('%s: ' % k, v.shape)"
   ]
  },
  {
   "cell_type": "markdown",
   "metadata": {},
   "source": [
    "# Convolution: Naive forward pass\n",
    "The core of a convolutional network is the convolution operation. In the file `cs6353/layers.py`, implement the forward pass for the convolution layer in the function `conv_forward_naive`. \n",
    "\n",
    "You don't have to worry too much about efficiency at this point; just write the code in whatever way you find most clear.\n",
    "\n",
    "You can test your implementation by running the following:"
   ]
  },
  {
   "cell_type": "code",
   "execution_count": 4,
   "metadata": {
    "ExecuteTime": {
     "end_time": "2023-10-26T22:28:04.875822Z",
     "start_time": "2023-10-26T22:28:04.846916100Z"
    }
   },
   "outputs": [
    {
     "name": "stdout",
     "output_type": "stream",
     "text": [
      "Testing conv_forward_naive\n",
      "difference:  2.2121476417505994e-08\n"
     ]
    }
   ],
   "source": [
    "x_shape = (2, 3, 4, 4)\n",
    "w_shape = (3, 3, 4, 4)\n",
    "x = np.linspace(-0.1, 0.5, num=np.prod(x_shape)).reshape(x_shape)\n",
    "w = np.linspace(-0.2, 0.3, num=np.prod(w_shape)).reshape(w_shape)\n",
    "b = np.linspace(-0.1, 0.2, num=3)\n",
    "\n",
    "conv_param = {'stride': 2, 'pad': 1}\n",
    "out, _ = conv_forward_naive(x, w, b, conv_param)\n",
    "correct_out = np.array([[[[-0.08759809, -0.10987781],\n",
    "                           [-0.18387192, -0.2109216 ]],\n",
    "                          [[ 0.21027089,  0.21661097],\n",
    "                           [ 0.22847626,  0.23004637]],\n",
    "                          [[ 0.50813986,  0.54309974],\n",
    "                           [ 0.64082444,  0.67101435]]],\n",
    "                         [[[-0.98053589, -1.03143541],\n",
    "                           [-1.19128892, -1.24695841]],\n",
    "                          [[ 0.69108355,  0.66880383],\n",
    "                           [ 0.59480972,  0.56776003]],\n",
    "                          [[ 2.36270298,  2.36904306],\n",
    "                           [ 2.38090835,  2.38247847]]]])\n",
    "\n",
    "# Compare your output to ours; difference should be around e-8\n",
    "print('Testing conv_forward_naive')\n",
    "print('difference: ', rel_error(out, correct_out))\n"
   ]
  },
  {
   "cell_type": "markdown",
   "metadata": {},
   "source": [
    "# Convolution: Naive backward pass\n",
    "Implement the backward pass for the convolution operation in the function `conv_backward_naive` in the file `cs6353/layers.py`. Again, you don't need to worry too much about computational efficiency.\n",
    "\n",
    "When you are done, run the following to check your backward pass with a numeric gradient check."
   ]
  },
  {
   "cell_type": "code",
   "execution_count": 5,
   "metadata": {
    "ExecuteTime": {
     "end_time": "2023-10-26T22:28:05.853228600Z",
     "start_time": "2023-10-26T22:28:04.864856500Z"
    }
   },
   "outputs": [
    {
     "name": "stdout",
     "output_type": "stream",
     "text": [
      "Testing conv_backward_naive function\n",
      "dx error:  1.159803161159293e-08\n",
      "dw error:  2.2471264748452487e-10\n",
      "db error:  3.37264006649648e-11\n"
     ]
    }
   ],
   "source": [
    "np.random.seed(231)\n",
    "x = np.random.randn(4, 3, 5, 5)\n",
    "w = np.random.randn(2, 3, 3, 3)\n",
    "b = np.random.randn(2,)\n",
    "dout = np.random.randn(4, 2, 5, 5)\n",
    "conv_param = {'stride': 1, 'pad': 1}\n",
    "\n",
    "dx_num = eval_numerical_gradient_array(lambda x: conv_forward_naive(x, w, b, conv_param)[0], x, dout)\n",
    "dw_num = eval_numerical_gradient_array(lambda w: conv_forward_naive(x, w, b, conv_param)[0], w, dout)\n",
    "db_num = eval_numerical_gradient_array(lambda b: conv_forward_naive(x, w, b, conv_param)[0], b, dout)\n",
    "\n",
    "out, cache = conv_forward_naive(x, w, b, conv_param)\n",
    "dx, dw, db = conv_backward_naive(dout, cache)\n",
    "\n",
    "# Your errors should be around e-8 or less.\n",
    "print('Testing conv_backward_naive function')\n",
    "print('dx error: ', rel_error(dx, dx_num))\n",
    "print('dw error: ', rel_error(dw, dw_num))\n",
    "print('db error: ', rel_error(db, db_num))"
   ]
  },
  {
   "cell_type": "markdown",
   "metadata": {},
   "source": [
    "# Max-Pooling: Naive forward\n",
    "Implement the forward pass for the max-pooling operation in the function `max_pool_forward_naive` in the file `cs6353/layers.py`. Again, don't worry too much about computational efficiency.\n",
    "\n",
    "Check your implementation by running the following:"
   ]
  },
  {
   "cell_type": "code",
   "execution_count": 6,
   "metadata": {
    "ExecuteTime": {
     "end_time": "2023-10-26T22:28:05.903296900Z",
     "start_time": "2023-10-26T22:28:05.849509500Z"
    }
   },
   "outputs": [
    {
     "name": "stdout",
     "output_type": "stream",
     "text": [
      "Testing max_pool_forward_naive function:\n",
      "difference:  4.1666665157267834e-08\n"
     ]
    }
   ],
   "source": [
    "x_shape = (2, 3, 4, 4)\n",
    "x = np.linspace(-0.3, 0.4, num=np.prod(x_shape)).reshape(x_shape)\n",
    "pool_param = {'pool_width': 2, 'pool_height': 2, 'stride': 2}\n",
    "\n",
    "out, _ = max_pool_forward_naive(x, pool_param)\n",
    "\n",
    "\n",
    "correct_out = np.array([[[[-0.26315789, -0.24842105],\n",
    "                          [-0.20421053, -0.18947368]],\n",
    "                         [[-0.14526316, -0.13052632],\n",
    "                          [-0.08631579, -0.07157895]],\n",
    "                         [[-0.02736842, -0.01263158],\n",
    "                          [ 0.03157895,  0.04631579]]],\n",
    "                        [[[ 0.09052632,  0.10526316],\n",
    "                          [ 0.14947368,  0.16421053]],\n",
    "                         [[ 0.20842105,  0.22315789],\n",
    "                          [ 0.26736842,  0.28210526]],\n",
    "                         [[ 0.32631579,  0.34105263],\n",
    "                          [ 0.38526316,  0.4       ]]]])\n",
    "\n",
    "# Compare your output with ours. Difference should be on the order of e-8.\n",
    "print('Testing max_pool_forward_naive function:')\n",
    "print('difference: ', rel_error(out, correct_out))"
   ]
  },
  {
   "cell_type": "markdown",
   "metadata": {},
   "source": [
    "# Max-Pooling: Naive backward\n",
    "Implement the backward pass for the max-pooling operation in the function `max_pool_backward_naive` in the file `cs6353/layers.py`. You don't need to worry about computational efficiency.\n",
    "\n",
    "Check your implementation with numeric gradient checking by running the following:"
   ]
  },
  {
   "cell_type": "code",
   "execution_count": 7,
   "metadata": {
    "ExecuteTime": {
     "end_time": "2023-10-26T22:28:06.095738600Z",
     "start_time": "2023-10-26T22:28:05.863248Z"
    }
   },
   "outputs": [
    {
     "name": "stdout",
     "output_type": "stream",
     "text": [
      "Testing max_pool_backward_naive function:\n",
      "dx error:  3.27562514223145e-12\n"
     ]
    }
   ],
   "source": [
    "np.random.seed(231)\n",
    "x = np.random.randn(3, 2, 8, 8)\n",
    "dout = np.random.randn(3, 2, 4, 4)\n",
    "pool_param = {'pool_height': 2, 'pool_width': 2, 'stride': 2}\n",
    "\n",
    "dx_num = eval_numerical_gradient_array(lambda x: max_pool_forward_naive(x, pool_param)[0], x, dout)\n",
    "\n",
    "out, cache = max_pool_forward_naive(x, pool_param)\n",
    "dx = max_pool_backward_naive(dout, cache)\n",
    "\n",
    "# Your error should be on the order of e-12\n",
    "print('Testing max_pool_backward_naive function:')\n",
    "print('dx error: ', rel_error(dx, dx_num))"
   ]
  },
  {
   "cell_type": "markdown",
   "metadata": {},
   "source": [
    "# Spatial Batch Normalization\n",
    "We already saw that batch normalization is a very useful technique for training deep fully-connected networks. As proposed in the original paper [3], batch normalization can also be used for convolutional networks, but we need to tweak it a bit; the modification will be called \"spatial batch normalization.\"\n",
    "\n",
    "Normally batch-normalization accepts inputs of shape `(N, D)` and produces outputs of shape `(N, D)`, where we normalize across the minibatch dimension `N`. For data coming from convolutional layers, batch normalization needs to accept inputs of shape `(N, C, H, W)` and produce outputs of shape `(N, C, H, W)` where the `N` dimension gives the minibatch size and the `(H, W)` dimensions give the spatial size of the feature map.\n",
    "\n",
    "If the feature map was produced using convolutions, then we expect the statistics of each feature channel to be relatively consistent both between different imagesand different locations within the same image. Therefore spatial batch normalization computes a mean and variance for each of the `C` feature channels by computing statistics over both the minibatch dimension `N` and the spatial dimensions `H` and `W`.\n",
    "\n",
    "\n",
    "[3] [Sergey Ioffe and Christian Szegedy, \"Batch Normalization: Accelerating Deep Network Training by Reducing\n",
    "Internal Covariate Shift\", ICML 2015.](https://arxiv.org/abs/1502.03167)"
   ]
  },
  {
   "cell_type": "markdown",
   "metadata": {},
   "source": [
    "## Spatial batch normalization: forward\n",
    "\n",
    "In the file `cs6353/layers.py`, implement the forward pass for spatial batch normalization in the function `spatial_batchnorm_forward`. Check your implementation by running the following:"
   ]
  },
  {
   "cell_type": "code",
   "execution_count": 8,
   "metadata": {
    "ExecuteTime": {
     "end_time": "2023-10-26T22:28:06.436028700Z",
     "start_time": "2023-10-26T22:28:06.417618Z"
    }
   },
   "outputs": [
    {
     "name": "stdout",
     "output_type": "stream",
     "text": [
      "Before spatial batch normalization:\n",
      "  Shape:  (2, 3, 4, 5)\n",
      "  Means:  [9.33463814 8.90909116 9.11056338]\n",
      "  Stds:  [3.61447857 3.19347686 3.5168142 ]\n",
      "After spatial batch normalization:\n",
      "  Shape:  (2, 3, 4, 5)\n",
      "  Means:  [ 6.18949336e-16  5.99520433e-16 -1.22124533e-16]\n",
      "  Stds:  [0.99999962 0.99999951 0.9999996 ]\n",
      "After spatial batch normalization (nontrivial gamma, beta):\n",
      "  Shape:  (2, 3, 4, 5)\n",
      "  Means:  [6. 7. 8.]\n",
      "  Stds:  [2.99999885 3.99999804 4.99999798]\n"
     ]
    }
   ],
   "source": [
    "np.random.seed(231)\n",
    "# Check the training-time forward pass by checking means and variances\n",
    "# of features both before and after spatial batch normalization\n",
    "\n",
    "N, C, H, W = 2, 3, 4, 5\n",
    "x = 4 * np.random.randn(N, C, H, W) + 10\n",
    "\n",
    "print('Before spatial batch normalization:')\n",
    "print('  Shape: ', x.shape)\n",
    "print('  Means: ', x.mean(axis=(0, 2, 3)))\n",
    "print('  Stds: ', x.std(axis=(0, 2, 3)))\n",
    "\n",
    "# Means should be close to zero and stds close to one\n",
    "gamma, beta = np.ones(C), np.zeros(C)\n",
    "bn_param = {'mode': 'train'}\n",
    "out, _ = spatial_batchnorm_forward(x, gamma, beta, bn_param)\n",
    "print('After spatial batch normalization:')\n",
    "print('  Shape: ', out.shape)\n",
    "print('  Means: ', out.mean(axis=(0, 2, 3)))\n",
    "print('  Stds: ', out.std(axis=(0, 2, 3)))\n",
    "\n",
    "# Means should be close to beta and stds close to gamma\n",
    "gamma, beta = np.asarray([3, 4, 5]), np.asarray([6, 7, 8])\n",
    "out, _ = spatial_batchnorm_forward(x, gamma, beta, bn_param)\n",
    "print('After spatial batch normalization (nontrivial gamma, beta):')\n",
    "print('  Shape: ', out.shape)\n",
    "print('  Means: ', out.mean(axis=(0, 2, 3)))\n",
    "print('  Stds: ', out.std(axis=(0, 2, 3)))"
   ]
  },
  {
   "cell_type": "code",
   "execution_count": 9,
   "metadata": {
    "ExecuteTime": {
     "end_time": "2023-10-26T22:28:06.883440300Z",
     "start_time": "2023-10-26T22:28:06.824111500Z"
    }
   },
   "outputs": [
    {
     "name": "stdout",
     "output_type": "stream",
     "text": [
      "After spatial batch normalization (test-time):\n",
      "  means:  [-7.69687344e-15 -6.68606584e-15 -5.13021864e-15 -1.09345193e-14]\n",
      "  stds:  [0.99999898 0.9999991  0.99999909 0.99999904]\n"
     ]
    }
   ],
   "source": [
    "np.random.seed(231)\n",
    "# Check the test-time forward pass by running the training-time\n",
    "# forward pass many times to warm up the running averages, and then\n",
    "# checking the means and variances of activations after a test-time\n",
    "# forward pass.\n",
    "N, C, H, W = 10, 4, 11, 12\n",
    "\n",
    "bn_param = {'mode': 'train'}\n",
    "gamma = np.ones(C)\n",
    "beta = np.zeros(C)\n",
    "for t in range(50):\n",
    "  x = 2.3 * np.random.randn(N, C, H, W) + 13\n",
    "  spatial_batchnorm_forward(x, gamma, beta, bn_param)\n",
    "bn_param['mode'] = 'test'\n",
    "x = 2.3 * np.random.randn(N, C, H, W) + 13\n",
    "a_norm, _ = spatial_batchnorm_forward(x, gamma, beta, bn_param)\n",
    "\n",
    "# Means should be close to zero and stds close to one, but will be\n",
    "# noisier than training-time forward passes.\n",
    "print('After spatial batch normalization (test-time):')\n",
    "print('  means: ', a_norm.mean(axis=(0, 2, 3)))\n",
    "print('  stds: ', a_norm.std(axis=(0, 2, 3)))"
   ]
  },
  {
   "cell_type": "markdown",
   "metadata": {},
   "source": [
    "## Spatial batch normalization: backward\n",
    "In the file `cs6353/layers.py`, implement the backward pass for spatial batch normalization in the function `spatial_batchnorm_backward`. Run the following to check your implementation using a numeric gradient check:"
   ]
  },
  {
   "cell_type": "code",
   "execution_count": 10,
   "metadata": {
    "ExecuteTime": {
     "end_time": "2023-10-26T22:28:07.669351900Z",
     "start_time": "2023-10-26T22:28:07.617004300Z"
    }
   },
   "outputs": [
    {
     "name": "stdout",
     "output_type": "stream",
     "text": [
      "dx error:  2.786648201640115e-07\n",
      "dgamma error:  7.0974817113608705e-12\n",
      "dbeta error:  3.275608725278405e-12\n"
     ]
    }
   ],
   "source": [
    "np.random.seed(231)\n",
    "N, C, H, W = 2, 3, 4, 5\n",
    "x = 5 * np.random.randn(N, C, H, W) + 12\n",
    "gamma = np.random.randn(C)\n",
    "beta = np.random.randn(C)\n",
    "dout = np.random.randn(N, C, H, W)\n",
    "\n",
    "bn_param = {'mode': 'train'}\n",
    "fx = lambda x: spatial_batchnorm_forward(x, gamma, beta, bn_param)[0]\n",
    "fg = lambda a: spatial_batchnorm_forward(x, gamma, beta, bn_param)[0]\n",
    "fb = lambda b: spatial_batchnorm_forward(x, gamma, beta, bn_param)[0]\n",
    "\n",
    "dx_num = eval_numerical_gradient_array(fx, x, dout)\n",
    "da_num = eval_numerical_gradient_array(fg, gamma, dout)\n",
    "db_num = eval_numerical_gradient_array(fb, beta, dout)\n",
    "\n",
    "#You should expect errors of magnitudes between 1e-12~1e-06\n",
    "_, cache = spatial_batchnorm_forward(x, gamma, beta, bn_param)\n",
    "dx, dgamma, dbeta = spatial_batchnorm_backward(dout, cache)\n",
    "print('dx error: ', rel_error(dx_num, dx))\n",
    "print('dgamma error: ', rel_error(da_num, dgamma))\n",
    "print('dbeta error: ', rel_error(db_num, dbeta))"
   ]
  },
  {
   "cell_type": "markdown",
   "metadata": {},
   "source": [
    "# Group Normalization\n",
    "In the previous notebook, we mentioned that Layer Normalization is an alternative normalization technique that mitigates the batch size limitations of Batch Normalization. However, as the authors of [4] observed, Layer Normalization does not perform as well as Batch Normalization when used with Convolutional Layers:\n",
    "\n",
    ">With fully connected layers, all the hidden units in a layer tend to make similar contributions to the final prediction, and re-centering and rescaling the summed inputs to a layer works well. However, the assumption of similar contributions is no longer true for convolutional neural networks. The large number of the hidden units whose\n",
    "receptive fields lie near the boundary of the image are rarely turned on and thus have very different\n",
    "statistics from the rest of the hidden units within the same layer.\n",
    "\n",
    "The authors of [5] propose an intermediary technique. In contrast to Layer Normalization, where you normalize over the entire feature per-datapoint, they suggest a consistent splitting of each per-datapoint feature into G groups, and a per-group per-datapoint normalization instead. \n",
    "\n",
    "![Comparison of normalization techniques discussed so far](normalization.png)\n",
    "<center>**Visual comparison of the normalization techniques discussed so far (image edited from [5])**</center>\n",
    "\n",
    "Even though an assumption of equal contribution is still being made within each group, the authors hypothesize that this is not as problematic, as innate grouping arises within features for visual recognition. One example they use to illustrate this is that many high-performance handcrafted features in traditional Computer Vision have terms that are explicitly grouped together. Take for example Histogram of Oriented Gradients [6]-- after computing histograms per spatially local block, each per-block histogram is normalized before being concatenated together to form the final feature vector.\n",
    "\n",
    "You will now implement Group Normalization. Note that this normalization technique that you are to implement in the following cells was introduced and published to arXiv *less than a month ago* -- this truly is still an ongoing and excitingly active field of research!\n",
    "\n",
    "[4] [Ba, Jimmy Lei, Jamie Ryan Kiros, and Geoffrey E. Hinton. \"Layer Normalization.\" stat 1050 (2016): 21.](https://arxiv.org/pdf/1607.06450.pdf)\n",
    "\n",
    "\n",
    "[5] [Wu, Yuxin, and Kaiming He. \"Group Normalization.\" arXiv preprint arXiv:1803.08494 (2018).](https://arxiv.org/abs/1803.08494)\n",
    "\n",
    "\n",
    "[6] [N. Dalal and B. Triggs. Histograms of oriented gradients for\n",
    "human detection. In Computer Vision and Pattern Recognition\n",
    "(CVPR), 2005.](https://ieeexplore.ieee.org/abstract/document/1467360/)"
   ]
  },
  {
   "cell_type": "markdown",
   "metadata": {},
   "source": [
    "## Spatial Group normalization: forward\n",
    "\n",
    "In the file `cs6353/layers.py`, implement the forward pass for group normalization in the function `spatial_groupnorm_forward`. Check your implementation by running the following:"
   ]
  },
  {
   "cell_type": "code",
   "execution_count": 11,
   "metadata": {
    "ExecuteTime": {
     "end_time": "2023-10-26T22:28:08.861265700Z",
     "start_time": "2023-10-26T22:28:08.821701300Z"
    }
   },
   "outputs": [
    {
     "name": "stdout",
     "output_type": "stream",
     "text": [
      "Before spatial group normalization:\n",
      "  Shape:  (2, 6, 4, 5)\n",
      "  Means:  [9.72505327 8.51114185 8.9147544  9.43448077]\n",
      "  Stds:  [3.67070958 3.09892597 4.27043622 3.97521327]\n",
      "After spatial group normalization:\n",
      "  Shape:  (1, 1, 1, 2, 6, 4, 5)\n",
      "  Means:  [-2.14643118e-16  5.25505565e-16  2.58126853e-16 -3.62672855e-16]\n",
      "  Stds:  [0.99999963 0.99999948 0.99999973 0.99999968]\n"
     ]
    }
   ],
   "source": [
    "np.random.seed(231)\n",
    "# Check the training-time forward pass by checking means and variances\n",
    "# of features both before and after spatial batch normalization\n",
    "\n",
    "N, C, H, W = 2, 6, 4, 5\n",
    "G = 2\n",
    "x = 4 * np.random.randn(N, C, H, W) + 10\n",
    "x_g = x.reshape((N*G,-1))\n",
    "print('Before spatial group normalization:')\n",
    "print('  Shape: ', x.shape)\n",
    "print('  Means: ', x_g.mean(axis=1))\n",
    "print('  Stds: ', x_g.std(axis=1))\n",
    "\n",
    "# Means should be close to zero and stds close to one\n",
    "gamma, beta = np.ones((1,C,1,1)), np.zeros((1,C,1,1))\n",
    "bn_param = {'mode': 'train'}\n",
    "\n",
    "out, _ = spatial_groupnorm_forward(x, gamma, beta, G, bn_param)\n",
    "out_g = out.reshape((N*G,-1))\n",
    "print('After spatial group normalization:')\n",
    "print('  Shape: ', out.shape)\n",
    "print('  Means: ', out_g.mean(axis=1))\n",
    "print('  Stds: ', out_g.std(axis=1))"
   ]
  },
  {
   "cell_type": "markdown",
   "metadata": {},
   "source": [
    "## Spatial group normalization: backward\n",
    "In the file `cs6353/layers.py`, implement the backward pass for spatial batch normalization in the function `spatial_groupnorm_backward`. Run the following to check your implementation using a numeric gradient check:"
   ]
  },
  {
   "cell_type": "code",
   "execution_count": 12,
   "metadata": {
    "ExecuteTime": {
     "end_time": "2023-10-26T22:28:09.707220800Z",
     "start_time": "2023-10-26T22:28:09.658384400Z"
    }
   },
   "outputs": [
    {
     "name": "stdout",
     "output_type": "stream",
     "text": [
      "dx error:  6.34590431845254e-08\n",
      "dgamma error:  1.0546047434202244e-11\n",
      "dbeta error:  3.810857316122484e-12\n"
     ]
    }
   ],
   "source": [
    "np.random.seed(231)\n",
    "N, C, H, W = 2, 6, 4, 5\n",
    "G = 2\n",
    "x = 5 * np.random.randn(N, C, H, W) + 12\n",
    "gamma = np.random.randn(1,C,1,1)\n",
    "beta = np.random.randn(1,C,1,1)\n",
    "dout = np.random.randn(N, C, H, W)\n",
    "\n",
    "gn_param = {}\n",
    "fx = lambda x: spatial_groupnorm_forward(x, gamma, beta, G, gn_param)[0]\n",
    "fg = lambda a: spatial_groupnorm_forward(x, gamma, beta, G, gn_param)[0]\n",
    "fb = lambda b: spatial_groupnorm_forward(x, gamma, beta, G, gn_param)[0]\n",
    "\n",
    "dx_num = eval_numerical_gradient_array(fx, x, dout)\n",
    "da_num = eval_numerical_gradient_array(fg, gamma, dout)\n",
    "db_num = eval_numerical_gradient_array(fb, beta, dout)\n",
    "\n",
    "_, cache = spatial_groupnorm_forward(x, gamma, beta, G, gn_param)\n",
    "dx, dgamma, dbeta = spatial_groupnorm_backward(dout, cache)\n",
    "#You should expect errors of magnitudes between 1e-12~1e-07\n",
    "print('dx error: ', rel_error(dx_num, dx))\n",
    "print('dgamma error: ', rel_error(da_num, dgamma))\n",
    "print('dbeta error: ', rel_error(db_num, dbeta))"
   ]
  },
  {
   "cell_type": "markdown",
   "metadata": {},
   "source": [
    "# ConvNet\n",
    "Now that you have implemented all the necessary layers, we can put them together into a simple convolutional network.\n",
    "\n",
    "Open the file `cs6353/classifiers/cnn.py` and complete the implementation of the `ConvNet` class. Run the following cells to help you debug:"
   ]
  },
  {
   "cell_type": "markdown",
   "metadata": {},
   "source": [
    "## Sanity check loss\n",
    "After you build a new network, one of the first things you should do is sanity check the loss. When we use the softmax loss, we expect the loss for random weights (and no regularization) to be about `log(C)` for `C` classes. When we add regularization this should go up."
   ]
  },
  {
   "cell_type": "code",
   "execution_count": 13,
   "metadata": {
    "ExecuteTime": {
     "end_time": "2023-10-26T22:28:12.257149100Z",
     "start_time": "2023-10-26T22:28:10.982854100Z"
    }
   },
   "outputs": [
    {
     "name": "stdout",
     "output_type": "stream",
     "text": [
      "Initial loss (no regularization):  2.3116596580092312\n",
      "log(10):  2.302585092994046\n",
      "Initial loss (with regularization):  2.3356916237697454\n"
     ]
    }
   ],
   "source": [
    "# num_inputs = 2\n",
    "# input_dim = (3, 16, 16)\n",
    "# reg = 0.0\n",
    "# num_classes = 10\n",
    "# np.random.seed(231)\n",
    "# X = np.random.randn(num_inputs, *input_dim)\n",
    "# y = np.random.randint(num_classes, size=num_inputs)\n",
    "\n",
    "# model = ThreeLayerConvNet(num_filters=3, filter_size=3,\n",
    "#                           input_dim=input_dim, hidden_dim=7,\n",
    "#                           dtype=np.float64)\n",
    "# loss, grads = model.loss(X, y)\n",
    "# # Errors should be small, but correct implementations may have\n",
    "# # relative errors up to the order of e-2\n",
    "# for param_name in sorted(grads):\n",
    "#     f = lambda _: model.loss(X, y)[0]\n",
    "#     param_grad_num = eval_numerical_gradient(f, model.params[param_name], verbose=False, h=1e-6)\n",
    "#     e = rel_error(param_grad_num, grads[param_name])\n",
    "#     print('%s max relative error: %e' % (param_name, rel_error(param_grad_num, grads[param_name])))\n",
    "\n",
    "\n",
    "model = ConvNet()\n",
    "\n",
    "N = 50\n",
    "X = np.random.randn(N, 3, 32, 32)\n",
    "y = np.random.randint(10, size=N)\n",
    "\n",
    "# print(model.loss(X, y))\n",
    "\n",
    "loss, grads = model.loss(X, y)\n",
    "print('Initial loss (no regularization): ', loss)\n",
    "print('log(10): ', np.log(10))\n",
    "\n",
    "model.reg = 0.5\n",
    "loss, grads = model.loss(X, y)\n",
    "print('Initial loss (with regularization): ', loss)"
   ]
  },
  {
   "cell_type": "markdown",
   "metadata": {},
   "source": [
    "## Gradient check\n",
    "After the loss looks reasonable, use numeric gradient checking to make sure that your backward pass is correct. When you use numeric gradient checking you should use a small amount of artifical data and a small number of neurons at each layer. Note: correct implementations may still have relative errors up to the order of e-2."
   ]
  },
  {
   "cell_type": "code",
   "execution_count": 14,
   "metadata": {
    "ExecuteTime": {
     "start_time": "2023-10-26T22:28:13.653097100Z"
    },
    "is_executing": true
   },
   "outputs": [
    {
     "name": "stdout",
     "output_type": "stream",
     "text": [
      "W_1 max relative error: 4.684024e-01\n",
      "W_2 max relative error: 3.027209e-05\n",
      "W_3 max relative error: 1.521006e-06\n",
      "b_1 max relative error: 1.628472e-08\n",
      "b_2 max relative error: 1.613293e-08\n",
      "b_3 max relative error: 9.360861e-10\n",
      "beta1 max relative error: 1.034391e-06\n",
      "beta2 max relative error: 4.716913e-07\n",
      "gamma1 max relative error: 3.499269e-06\n",
      "gamma2 max relative error: 1.537313e-05\n"
     ]
    }
   ],
   "source": [
    "num_inputs = 2\n",
    "input_dim = (3, 8, 8)\n",
    "reg = 0.0\n",
    "num_classes = 10\n",
    "np.random.seed(231)\n",
    "X = np.random.randn(num_inputs, *input_dim)\n",
    "y = np.random.randint(num_classes, size=num_inputs)\n",
    "\n",
    "model = ConvNet(input_dim=input_dim, dtype=np.float64)\n",
    "loss, grads = model.loss(X, y)\n",
    "# Errors should be small, but correct implementations may have\n",
    "# relative errors up to the order of e-2\n",
    "for param_name in sorted(grads):\n",
    "    f = lambda _: model.loss(X, y)[0]\n",
    "    param_grad_num = eval_numerical_gradient(f, model.params[param_name], verbose=False, h=1e-6)\n",
    "    e = rel_error(param_grad_num, grads[param_name])\n",
    "    print('%s max relative error: %e' % (param_name, rel_error(param_grad_num, grads[param_name])))\n",
    "    # print('%s max relative error: %e' % (param_name, param_grad_num))"
   ]
  },
  {
   "cell_type": "markdown",
   "metadata": {},
   "source": [
    "### Overfit small data\n",
    "A nice trick is to train your model with just a few training samples. You should be able to overfit small datasets, which will result in high training accuracy and comparatively low validation accuracy."
   ]
  },
  {
   "cell_type": "code",
   "execution_count": 15,
   "metadata": {
    "is_executing": true
   },
   "outputs": [
    {
     "name": "stdout",
     "output_type": "stream",
     "text": [
      "(Iteration 1 / 250) loss: 2.735618\n",
      "(Epoch 0 / 50) train acc: 0.180000; val_acc: 0.121000\n",
      "(Epoch 1 / 50) train acc: 0.370000; val_acc: 0.181000\n",
      "(Epoch 2 / 50) train acc: 0.410000; val_acc: 0.146000\n",
      "(Iteration 11 / 250) loss: 4.138183\n",
      "(Epoch 3 / 50) train acc: 0.400000; val_acc: 0.115000\n",
      "(Epoch 4 / 50) train acc: 0.580000; val_acc: 0.166000\n",
      "(Iteration 21 / 250) loss: 1.486943\n",
      "(Epoch 5 / 50) train acc: 0.730000; val_acc: 0.209000\n",
      "(Epoch 6 / 50) train acc: 0.740000; val_acc: 0.194000\n",
      "(Iteration 31 / 250) loss: 0.785646\n",
      "(Epoch 7 / 50) train acc: 0.800000; val_acc: 0.224000\n",
      "(Epoch 8 / 50) train acc: 0.840000; val_acc: 0.200000\n",
      "(Iteration 41 / 250) loss: 0.729946\n",
      "(Epoch 9 / 50) train acc: 0.930000; val_acc: 0.206000\n",
      "(Epoch 10 / 50) train acc: 0.930000; val_acc: 0.211000\n",
      "(Iteration 51 / 250) loss: 0.055936\n",
      "(Epoch 11 / 50) train acc: 0.940000; val_acc: 0.201000\n",
      "(Epoch 12 / 50) train acc: 0.990000; val_acc: 0.208000\n",
      "(Iteration 61 / 250) loss: 0.105686\n",
      "(Epoch 13 / 50) train acc: 0.970000; val_acc: 0.192000\n",
      "(Epoch 14 / 50) train acc: 0.990000; val_acc: 0.208000\n",
      "(Iteration 71 / 250) loss: 0.043670\n",
      "(Epoch 15 / 50) train acc: 0.990000; val_acc: 0.213000\n",
      "(Epoch 16 / 50) train acc: 1.000000; val_acc: 0.226000\n",
      "(Iteration 81 / 250) loss: 0.021199\n",
      "(Epoch 17 / 50) train acc: 1.000000; val_acc: 0.231000\n",
      "(Epoch 18 / 50) train acc: 1.000000; val_acc: 0.223000\n",
      "(Iteration 91 / 250) loss: 0.007575\n",
      "(Epoch 19 / 50) train acc: 1.000000; val_acc: 0.217000\n",
      "(Epoch 20 / 50) train acc: 1.000000; val_acc: 0.223000\n",
      "(Iteration 101 / 250) loss: 0.007665\n",
      "(Epoch 21 / 50) train acc: 1.000000; val_acc: 0.224000\n",
      "(Epoch 22 / 50) train acc: 1.000000; val_acc: 0.223000\n",
      "(Iteration 111 / 250) loss: 0.009133\n",
      "(Epoch 23 / 50) train acc: 1.000000; val_acc: 0.222000\n",
      "(Epoch 24 / 50) train acc: 1.000000; val_acc: 0.222000\n",
      "(Iteration 121 / 250) loss: 0.002350\n",
      "(Epoch 25 / 50) train acc: 1.000000; val_acc: 0.216000\n",
      "(Epoch 26 / 50) train acc: 1.000000; val_acc: 0.216000\n",
      "(Iteration 131 / 250) loss: 0.026194\n",
      "(Epoch 27 / 50) train acc: 1.000000; val_acc: 0.218000\n",
      "(Epoch 28 / 50) train acc: 1.000000; val_acc: 0.221000\n",
      "(Iteration 141 / 250) loss: 0.001139\n",
      "(Epoch 29 / 50) train acc: 1.000000; val_acc: 0.225000\n",
      "(Epoch 30 / 50) train acc: 1.000000; val_acc: 0.225000\n",
      "(Iteration 151 / 250) loss: 0.005350\n",
      "(Epoch 31 / 50) train acc: 1.000000; val_acc: 0.228000\n",
      "(Epoch 32 / 50) train acc: 1.000000; val_acc: 0.228000\n",
      "(Iteration 161 / 250) loss: 0.006951\n",
      "(Epoch 33 / 50) train acc: 1.000000; val_acc: 0.228000\n",
      "(Epoch 34 / 50) train acc: 1.000000; val_acc: 0.230000\n",
      "(Iteration 171 / 250) loss: 0.002181\n",
      "(Epoch 35 / 50) train acc: 1.000000; val_acc: 0.233000\n",
      "(Epoch 36 / 50) train acc: 1.000000; val_acc: 0.232000\n",
      "(Iteration 181 / 250) loss: 0.009329\n",
      "(Epoch 37 / 50) train acc: 1.000000; val_acc: 0.231000\n",
      "(Epoch 38 / 50) train acc: 1.000000; val_acc: 0.232000\n",
      "(Iteration 191 / 250) loss: 0.003907\n",
      "(Epoch 39 / 50) train acc: 1.000000; val_acc: 0.230000\n",
      "(Epoch 40 / 50) train acc: 1.000000; val_acc: 0.227000\n",
      "(Iteration 201 / 250) loss: 0.002780\n",
      "(Epoch 41 / 50) train acc: 1.000000; val_acc: 0.228000\n",
      "(Epoch 42 / 50) train acc: 1.000000; val_acc: 0.228000\n",
      "(Iteration 211 / 250) loss: 0.003743\n",
      "(Epoch 43 / 50) train acc: 1.000000; val_acc: 0.226000\n",
      "(Epoch 44 / 50) train acc: 1.000000; val_acc: 0.228000\n",
      "(Iteration 221 / 250) loss: 0.006557\n",
      "(Epoch 45 / 50) train acc: 1.000000; val_acc: 0.229000\n",
      "(Epoch 46 / 50) train acc: 1.000000; val_acc: 0.232000\n",
      "(Iteration 231 / 250) loss: 0.003235\n",
      "(Epoch 47 / 50) train acc: 1.000000; val_acc: 0.231000\n",
      "(Epoch 48 / 50) train acc: 1.000000; val_acc: 0.231000\n",
      "(Iteration 241 / 250) loss: 0.009860\n",
      "(Epoch 49 / 50) train acc: 1.000000; val_acc: 0.231000\n",
      "(Epoch 50 / 50) train acc: 1.000000; val_acc: 0.231000\n"
     ]
    }
   ],
   "source": [
    "np.random.seed(231)\n",
    "\n",
    "num_train = 100\n",
    "small_data = {\n",
    "  'X_train': data['X_train'][:num_train],\n",
    "  'y_train': data['y_train'][:num_train],\n",
    "  'X_val': data['X_val'],\n",
    "  'y_val': data['y_val'],\n",
    "}\n",
    "\n",
    "model = ConvNet(\n",
    "    num_filters=[16, 32],\n",
    "    filter_sizes=[7, 3],\n",
    "    weight_scale=1e-2\n",
    ")\n",
    "\n",
    "solver = Solver(\n",
    "    model, small_data,\n",
    "    num_epochs=50, batch_size=20,\n",
    "    update_rule='sgd_momentum',\n",
    "    optim_config={\n",
    "      'learning_rate': 1e-2,\n",
    "    },\n",
    "    verbose=True, print_every=10\n",
    ")\n",
    "solver.train()"
   ]
  },
  {
   "cell_type": "code",
   "execution_count": 16,
   "metadata": {
    "is_executing": true
   },
   "outputs": [
    {
     "data": {
      "image/png": "[encoded data removed]",
      "text/plain": [
       "<Figure size 432x288 with 2 Axes>"
      ]
     },
     "metadata": {
      "needs_background": "light"
     },
     "output_type": "display_data"
    }
   ],
   "source": [
    "# Plotting the loss, training accuracy, and validation accuracy should show clear overfitting:\n",
    "plt.subplot(2, 1, 1)\n",
    "plt.plot(solver.loss_history, 'o')\n",
    "plt.xlabel('iteration')\n",
    "plt.ylabel('loss')\n",
    "\n",
    "plt.subplot(2, 1, 2)\n",
    "plt.plot(solver.train_acc_history, '-o')\n",
    "plt.plot(solver.val_acc_history, '-o')\n",
    "plt.legend(['train', 'val'], loc='upper left')\n",
    "plt.xlabel('epoch')\n",
    "plt.ylabel('accuracy')\n",
    "plt.show()"
   ]
  },
  {
   "cell_type": "markdown",
   "metadata": {},
   "source": [
    "## Train a good CNN.\n",
    "    \n",
    "By tweaking different parameters, such as number of convolution layers, learning rate, batch size, etc, you should achieve greater than 62% accuracy on the validation set **with 3 epochs using the sgd_momentum optimizer**.\n",
    "    \n",
    "If you are really careful, you should be able to get nearly 66% accuracy on the validation set. But we don't give extra credits for doing so.\n",
    "    \n",
    "It may take a quite while for your training to be finished. **Do not use more than four convolution layers. Your training shouldn't be longer than one hour.** (This is a rough reference as it depends on the hardware. Our implementation takes about 10-15 minutes to finish.)\n",
    "    \n",
    "Use a large filter/kernel size in the first convolution layer (for example, 7), so you can easily visualize the learend filters.\n",
    "    \n",
    "Since it is relatively slower to train a CNN, you can simply report the best hyper parameters you found. You need report validation accuracy of other choices below."
   ]
  },
  {
   "cell_type": "code",
   "execution_count": 17,
   "metadata": {
    "is_executing": true
   },
   "outputs": [
    {
     "name": "stdout",
     "output_type": "stream",
     "text": [
      "(Iteration 1 / 4593) loss: 2.813290\n",
      "(Epoch 0 / 3) train acc: 0.164000; val_acc: 0.152000\n",
      "(Iteration 51 / 4593) loss: 2.896852\n",
      "(Iteration 101 / 4593) loss: 2.787180\n",
      "(Iteration 151 / 4593) loss: 1.895524\n",
      "(Iteration 201 / 4593) loss: 1.753565\n",
      "(Iteration 251 / 4593) loss: 1.627394\n",
      "(Iteration 301 / 4593) loss: 1.486855\n",
      "(Iteration 351 / 4593) loss: 1.639293\n",
      "(Iteration 401 / 4593) loss: 1.536671\n",
      "(Iteration 451 / 4593) loss: 1.355593\n",
      "(Iteration 501 / 4593) loss: 1.456251\n",
      "(Iteration 551 / 4593) loss: 1.632776\n",
      "(Iteration 601 / 4593) loss: 1.539111\n",
      "(Iteration 651 / 4593) loss: 1.255545\n",
      "(Iteration 701 / 4593) loss: 1.519179\n",
      "(Iteration 751 / 4593) loss: 1.575602\n",
      "(Iteration 801 / 4593) loss: 1.313616\n",
      "(Iteration 851 / 4593) loss: 1.671568\n",
      "(Iteration 901 / 4593) loss: 1.158067\n",
      "(Iteration 951 / 4593) loss: 1.283438\n",
      "(Iteration 1001 / 4593) loss: 1.463887\n",
      "(Iteration 1051 / 4593) loss: 1.269820\n",
      "(Iteration 1101 / 4593) loss: 1.189647\n",
      "(Iteration 1151 / 4593) loss: 1.138343\n",
      "(Iteration 1201 / 4593) loss: 1.615970\n",
      "(Iteration 1251 / 4593) loss: 1.102487\n",
      "(Iteration 1301 / 4593) loss: 1.566165\n",
      "(Iteration 1351 / 4593) loss: 1.494990\n",
      "(Iteration 1401 / 4593) loss: 1.460640\n",
      "(Iteration 1451 / 4593) loss: 1.536115\n",
      "(Iteration 1501 / 4593) loss: 1.272734\n",
      "(Epoch 1 / 3) train acc: 0.587000; val_acc: 0.563000\n",
      "(Iteration 1551 / 4593) loss: 1.398421\n",
      "(Iteration 1601 / 4593) loss: 1.052416\n",
      "(Iteration 1651 / 4593) loss: 1.245160\n",
      "(Iteration 1701 / 4593) loss: 1.186304\n",
      "(Iteration 1751 / 4593) loss: 1.564447\n",
      "(Iteration 1801 / 4593) loss: 1.128229\n",
      "(Iteration 1851 / 4593) loss: 1.132954\n",
      "(Iteration 1901 / 4593) loss: 0.706591\n",
      "(Iteration 1951 / 4593) loss: 0.921648\n",
      "(Iteration 2001 / 4593) loss: 1.324097\n",
      "(Iteration 2051 / 4593) loss: 1.201326\n",
      "(Iteration 2101 / 4593) loss: 1.227291\n",
      "(Iteration 2151 / 4593) loss: 0.879298\n",
      "(Iteration 2201 / 4593) loss: 0.779294\n",
      "(Iteration 2251 / 4593) loss: 1.420853\n",
      "(Iteration 2301 / 4593) loss: 1.291180\n",
      "(Iteration 2351 / 4593) loss: 0.956255\n",
      "(Iteration 2401 / 4593) loss: 0.884758\n",
      "(Iteration 2451 / 4593) loss: 1.231592\n",
      "(Iteration 2501 / 4593) loss: 1.024643\n",
      "(Iteration 2551 / 4593) loss: 0.646960\n",
      "(Iteration 2601 / 4593) loss: 1.542949\n",
      "(Iteration 2651 / 4593) loss: 1.226053\n",
      "(Iteration 2701 / 4593) loss: 1.144972\n",
      "(Iteration 2751 / 4593) loss: 0.916160\n",
      "(Iteration 2801 / 4593) loss: 1.375703\n",
      "(Iteration 2851 / 4593) loss: 1.016102\n",
      "(Iteration 2901 / 4593) loss: 0.801092\n",
      "(Iteration 2951 / 4593) loss: 0.950697\n",
      "(Iteration 3001 / 4593) loss: 0.851425\n",
      "(Iteration 3051 / 4593) loss: 1.087421\n",
      "(Epoch 2 / 3) train acc: 0.646000; val_acc: 0.615000\n",
      "(Iteration 3101 / 4593) loss: 0.762459\n",
      "(Iteration 3151 / 4593) loss: 0.904069\n",
      "(Iteration 3201 / 4593) loss: 0.953213\n",
      "(Iteration 3251 / 4593) loss: 1.128821\n",
      "(Iteration 3301 / 4593) loss: 1.024762\n",
      "(Iteration 3351 / 4593) loss: 0.863470\n",
      "(Iteration 3401 / 4593) loss: 1.193716\n",
      "(Iteration 3451 / 4593) loss: 1.085220\n",
      "(Iteration 3501 / 4593) loss: 0.973071\n",
      "(Iteration 3551 / 4593) loss: 1.101911\n",
      "(Iteration 3601 / 4593) loss: 0.873897\n",
      "(Iteration 3651 / 4593) loss: 1.025374\n",
      "(Iteration 3701 / 4593) loss: 0.916968\n",
      "(Iteration 3751 / 4593) loss: 0.921548\n",
      "(Iteration 3801 / 4593) loss: 0.742956\n",
      "(Iteration 3851 / 4593) loss: 0.544873\n",
      "(Iteration 3901 / 4593) loss: 0.781828\n",
      "(Iteration 3951 / 4593) loss: 0.543661\n",
      "(Iteration 4001 / 4593) loss: 0.904803\n",
      "(Iteration 4051 / 4593) loss: 1.390126\n",
      "(Iteration 4101 / 4593) loss: 0.853765\n",
      "(Iteration 4151 / 4593) loss: 1.148712\n",
      "(Iteration 4201 / 4593) loss: 0.996141\n",
      "(Iteration 4251 / 4593) loss: 0.835008\n",
      "(Iteration 4301 / 4593) loss: 0.537155\n",
      "(Iteration 4351 / 4593) loss: 1.131438\n",
      "(Iteration 4401 / 4593) loss: 0.696243\n",
      "(Iteration 4451 / 4593) loss: 0.706256\n",
      "(Iteration 4501 / 4593) loss: 0.685065\n",
      "(Iteration 4551 / 4593) loss: 0.815492\n",
      "(Epoch 3 / 3) train acc: 0.699000; val_acc: 0.670000\n"
     ]
    }
   ],
   "source": [
    "best_model = None\n",
    "################################################################################\n",
    "# TODO: Train the best ConvNet that you can on CIFAR-10 with 3 epochs using    #\n",
    "# the sgd_momentum optimizer. Store your best model in the best_model variable.#\n",
    "################################################################################\n",
    "\n",
    "# raise NotImplementedError\n",
    "model = ConvNet(\n",
    "    weight_scale=0.01, \n",
    "    reg=0.000001,\n",
    "    use_batch_norm=True,\n",
    "    num_filters=[16, 32, 64],\n",
    "    filter_sizes=[7, 7, 3]\n",
    ")\n",
    "\n",
    "solver = Solver(\n",
    "    model, data,\n",
    "    num_epochs=3, batch_size=32,\n",
    "    update_rule='sgd_momentum',\n",
    "    optim_config={\n",
    "      'learning_rate': 5e-3, 'lr_decay': 0.98\n",
    "    },\n",
    "    verbose=True, print_every=50\n",
    ")\n",
    "solver.train()\n",
    "\n",
    "best_model = model\n",
    "best_model.params.update(solver.best_params)\n",
    "\n",
    "################################################################################\n",
    "#                              END OF YOUR CODE                                #\n",
    "################################################################################\n",
    "\n"
   ]
  },
  {
   "cell_type": "code",
   "execution_count": 18,
   "metadata": {
    "ExecuteTime": {
     "start_time": "2023-10-26T07:10:09.136689500Z"
    }
   },
   "outputs": [
    {
     "name": "stdout",
     "output_type": "stream",
     "text": [
      "Validation set accuracy:  0.672\n",
      "Test set accuracy:  0.666\n"
     ]
    },
    {
     "data": {
      "image/png": "[encoded data removed]",
      "text/plain": [
       "<Figure size 1080x864 with 2 Axes>"
      ]
     },
     "metadata": {
      "needs_background": "light"
     },
     "output_type": "display_data"
    }
   ],
   "source": [
    "# Run your best model on the validation and test sets. You should achieve above 62% accuracy on the validation set.\n",
    "y_test_pred = np.argmax(best_model.loss(data['X_test']), axis=1)\n",
    "y_val_pred = np.argmax(best_model.loss(data['X_val']), axis=1)\n",
    "print('Validation set accuracy: ', (y_val_pred == data['y_val']).mean())\n",
    "print('Test set accuracy: ', (y_test_pred == data['y_test']).mean())\n",
    "\n",
    "\n",
    "plt.subplot(2, 1, 1)\n",
    "plt.title('Training loss')\n",
    "plt.plot(solver.loss_history, 'o')\n",
    "plt.xlabel('Iteration')\n",
    "\n",
    "plt.subplot(2, 1, 2)\n",
    "plt.title('Accuracy')\n",
    "plt.plot(solver.train_acc_history, '-o', label='train')\n",
    "plt.plot(solver.val_acc_history, '-o', label='val')\n",
    "plt.plot([0.5] * len(solver.val_acc_history), 'k--')\n",
    "plt.xlabel('Epoch')\n",
    "plt.legend(loc='lower right')\n",
    "plt.gcf().set_size_inches(15, 12)\n",
    "plt.show()"
   ]
  },
  {
   "cell_type": "markdown",
   "metadata": {},
   "source": [
    "### Visualize Filters"
   ]
  },
  {
   "cell_type": "code",
   "execution_count": 19,
   "metadata": {
    "ExecuteTime": {
     "start_time": "2023-10-26T07:10:09.136689500Z"
    }
   },
   "outputs": [
    {
     "data": {
      "image/png": "[encoded data removed]",
      "text/plain": [
       "<Figure size 360x360 with 1 Axes>"
      ]
     },
     "metadata": {
      "needs_background": "light"
     },
     "output_type": "display_data"
    }
   ],
   "source": [
    "# You can visualize the first-layer convolutional filters from the trained network by running the following:\n",
    "from cs6353.vis_utils import visualize_grid\n",
    "\n",
    "grid = visualize_grid(model.params['W_1'].transpose(0, 2, 3, 1))\n",
    "plt.imshow(grid.astype('uint8'))\n",
    "plt.axis('off')\n",
    "plt.gcf().set_size_inches(5, 5)\n",
    "plt.show()"
   ]
  },
  {
   "cell_type": "markdown",
   "metadata": {},
   "source": [
    "**Report validation accuray for other hyper parameters you have tried**"
   ]
  },
  {
   "cell_type": "markdown",
   "metadata": {},
   "source": [
    "weight_scale=0.01, reg=0.000001,num_filters=[32, 32, 64],filter_sizes=[7, 7, 3], learning_rate = 5e-3, validation accuray = 0.18\n",
    "weight_scale=0.01, reg=0.00001,num_filters=[16, 32, 64],filter_sizes=[7, 3, 3], learning_rate = 5e-3, validation accuray = 0.13"
   ]
  },
  {
   "cell_type": "markdown",
   "metadata": {},
   "source": [
    "**Task 4.4: train a ConvNet without using batch normalization layers.**\n",
    "    \n",
    "Report the best validation accuracy you can get and discuss how it is different from the version with batch normalization layers."
   ]
  },
  {
   "cell_type": "code",
   "execution_count": null,
   "metadata": {
    "ExecuteTime": {
     "start_time": "2023-10-26T07:10:09.136689500Z"
    }
   },
   "outputs": [],
   "source": []
  }
 ],
 "metadata": {
  "kernelspec": {
   "display_name": "Python 3",
   "language": "python",
   "name": "python3"
  },
  "language_info": {
   "codemirror_mode": {
    "name": "ipython",
    "version": 3
   },
   "file_extension": ".py",
   "mimetype": "text/x-python",
   "name": "python",
   "nbconvert_exporter": "python",
   "pygments_lexer": "ipython3",
   "version": "3.6.13"
  }
 },
 "nbformat": 4,
 "nbformat_minor": 2
}
